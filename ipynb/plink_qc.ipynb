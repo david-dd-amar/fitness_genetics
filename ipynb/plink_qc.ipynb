{
 "cells": [
  {
   "cell_type": "code",
   "execution_count": 5,
   "metadata": {
    "scrolled": false
   },
   "outputs": [
    {
     "data": {
      "text/plain": [
       "32512"
      ]
     },
     "execution_count": 5,
     "metadata": {},
     "output_type": "execute_result"
    }
   ],
   "source": [
    "# import os\n",
    "# set paths\n",
    "fitness_genetics_dir_path = \"/oak/stanford/groups/euan/projects/fitness_genetics/\"\n",
    "ped_path = fitness_genetics_dir_path + \"illu_processed_plink_data/PLINK_050618_0953/recall_may_2018_without_reclustering\"\n",
    "# load plink\n",
    "os.system(\"module load biology\")\n",
    "os.system(\"module load plink/1.90b5.3\")\n",
    "# transform to bed\n",
    "os.system(\"plink --file \" + ped_path + \" --make-bed --out \" + ped_path)\n",
    "# transform to bed + impute sex\n",
    "os.system(\"plink --bfile \" + ped_path + \" --recode --impute-sex --out \" + ped_path + \">impute_sex.log\")"
   ]
  },
  {
   "cell_type": "code",
   "execution_count": null,
   "metadata": {},
   "outputs": [],
   "source": [
    "# summary statistics of missing data\n",
    "os.system(\"plink --bfile \" + ped_path + \" --missing --out \" + ped_path)\n",
    "\n",
    "# allele freq\n",
    "os.system(\"plink --bfile \" + ped_path + \" --freq --out \" + ped_path + \">freq.log\")\n",
    "\n",
    "# do PCA\n",
    "\n",
    "# partition ped into many files and work in parallel\n",
    "os.system(\"less \" + ped_path + \".ped | wc > tmp.txt\")\n",
    "with open(\"tmp.txt\") as f:\n",
    "    content = f.readlines()\n",
    "    print(content)\n",
    "content = content[0].split()\n",
    "N_sample = float(content[0])\n",
    "os.system(\"rm tmp.txt\")\n"
   ]
  },
  {
   "cell_type": "code",
   "execution_count": null,
   "metadata": {},
   "outputs": [],
   "source": []
  }
 ],
 "metadata": {
  "kernelspec": {
   "display_name": "Python 3",
   "language": "python",
   "name": "python3"
  },
  "language_info": {
   "codemirror_mode": {
    "name": "ipython",
    "version": 3
   },
   "file_extension": ".py",
   "mimetype": "text/x-python",
   "name": "python",
   "nbconvert_exporter": "python",
   "pygments_lexer": "ipython3",
   "version": "3.6.1"
  }
 },
 "nbformat": 4,
 "nbformat_minor": 2
}
